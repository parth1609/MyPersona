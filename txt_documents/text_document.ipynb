{
 "cells": [
  {
   "cell_type": "code",
   "execution_count": 1,
   "id": "5f65d3a1",
   "metadata": {},
   "outputs": [],
   "source": [
    "from text_document import extract_txt_file"
   ]
  },
  {
   "cell_type": "code",
   "execution_count": 3,
   "id": "e83180ee",
   "metadata": {},
   "outputs": [
    {
     "data": {
      "text/plain": [
       "{'file': '../demo_src_data/usa.txt',\n",
       " 'content': \"\\nThe USA debt cycle is a complex topic with various perspectives. Here's a general overview:\\n\\n1. Debt Accumulation:\\n    - The US government, like many others, often operates with a budget deficit, meaning it spends more than it collects in revenue.\\n    - This deficit is financed by issuing debt (Treasury bonds, bills, etc.).\\n    - Over time, this leads to the accumulation of national debt.\\n\\n2. Debt Servicing:\\n    - The government must make interest payments on its outstanding debt.\\n    - As the debt grows, the interest payments also increase, consuming a larger portion of the budget.\\n\\n3. Economic Factors:\\n    - Economic growth can help manage debt by increasing tax revenue.\\n    - Recessions can exacerbate debt problems by reducing revenue and increasing spending on social programs.\\n    - Interest rates play a crucial role. Higher rates increase the cost of borrowing and debt servicing.\\n\\n4. Political Factors:\\n    - Government spending decisions, tax policies, and political priorities all influence the debt cycle.\\n    - Debates often arise about the appropriate level of debt and how to manage it.\\n\\n5. Global Factors:\\n    - The US dollar's status as a reserve currency allows the US to borrow more easily.\\n    - Global economic conditions and demand for US debt can affect interest rates and the debt cycle.\\n\\n6. Potential Consequences:\\n    - High levels of debt can lead to concerns about inflation, currency devaluation, and reduced economic growth.\\n    - It can also limit the government's ability to respond to economic crises or invest in future priorities.\\n\\nIt's important to note that the debt cycle is not a fixed or predictable pattern. It's influenced by a wide range of factors and can change over time.\\n\\n\",\n",
       " 'status': 'success',\n",
       " 'error': None}"
      ]
     },
     "execution_count": 3,
     "metadata": {},
     "output_type": "execute_result"
    }
   ],
   "source": [
    "extract_txt_file('../demo_src_data/usa.txt')"
   ]
  },
  {
   "cell_type": "code",
   "execution_count": null,
   "id": "4535534a",
   "metadata": {},
   "outputs": [],
   "source": []
  }
 ],
 "metadata": {
  "kernelspec": {
   "display_name": "venv",
   "language": "python",
   "name": "python3"
  },
  "language_info": {
   "codemirror_mode": {
    "name": "ipython",
    "version": 3
   },
   "file_extension": ".py",
   "mimetype": "text/x-python",
   "name": "python",
   "nbconvert_exporter": "python",
   "pygments_lexer": "ipython3",
   "version": "3.12.9"
  }
 },
 "nbformat": 4,
 "nbformat_minor": 5
}
