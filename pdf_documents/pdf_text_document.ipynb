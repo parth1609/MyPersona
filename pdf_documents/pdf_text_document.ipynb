{
 "cells": [
  {
   "cell_type": "code",
   "execution_count": 84,
   "id": "51809a4a",
   "metadata": {},
   "outputs": [
    {
     "name": "stdout",
     "output_type": "stream",
     "text": [
      "PyPDFLoader initialized with ../demo_src_data/Profile.pdf\n"
     ]
    }
   ],
   "source": [
    "from langchain_community.document_loaders import PyPDFLoader\n",
    "\n",
    "file_path = \"../demo_src_data/Profile.pdf\"\n",
    "\n",
    "# Initialize PyPDFLoader with the file path\n",
    "# PyPDFLoader handles opening the binary PDF file itself.\n",
    "loader = PyPDFLoader(file_path)\n",
    "print(f\"PyPDFLoader initialized with {file_path}\")\n",
    "\n"
   ]
  },
  {
   "cell_type": "code",
   "execution_count": 114,
   "id": "2dec4972",
   "metadata": {},
   "outputs": [
    {
     "name": "stdout",
     "output_type": "stream",
     "text": [
      "Successfully loaded 3 documents/pages using PyPDFLoader.\n"
     ]
    },
    {
     "data": {
      "text/plain": [
       "({'producer': 'Apache FOP Version 2.2',\n",
       "  'creator': 'PyPDF',\n",
       "  'creationdate': '2025-01-01T23:30:20+00:00',\n",
       "  'title': 'Resume',\n",
       "  'author': 'LinkedIn',\n",
       "  'subject': 'Resume generated from profile',\n",
       "  'source': '../demo_src_data/Profile.pdf',\n",
       "  'total_pages': 3,\n",
       "  'page': 0,\n",
       "  'page_label': '1'},\n",
       " \"Contact\\nwww.linkedin.com/in/sudhanshu1st\\n(LinkedIn)\\nTop Skills\\nProduct Analytics\\nAnalytical Solutions\\nPython (Programming Language)\\nCertifications\\nMicrosoft Learn AI Skill Challenge\\nBCG Data Science & Analytics\\nVirtual Experience Program\\nAmbassadors Projects Team Lead\\nSupervised Machine Learning:\\nRegression and Classification\\nMachine Learning Specialization\\nSudhanshu Tiwari\\nData Science@Internshala | Data Analytics | Python | SQL | ML |\\nECE '24\\nGurugram, Haryana, India\\nSummary\\nHello! I am a data professional passionate about technologies such\\nas data science, analytics, MLOps, and robotics. With a strong\\nfoundation and experience in Python, SQL, Power BI, and machine\\nlearning, I am constantly helping businesses with their data analytics\\nproblems. \\nOutside of my technical interests, I enjoy writing about machine\\nlearning, data science, coding, life lessons, and memes to keep you\\nall entertained.\\nLooking for opportunities in DA/DS/MLE roles. Let's connect and\\nexplore how we can create a brighter future together.\\nExperience\\nInternshala\\n1 year 1 month\\nAssociate Data Science \\nJuly 2024\\xa0-\\xa0Present\\xa0(7 months)\\nData Science Intern\\nJanuary 2024\\xa0-\\xa0June 2024\\xa0(6 months)\\nGurugram, Haryana, India\\nMicrosoft\\n1 year 6 months\\nBeta Microsoft Learn Student Ambassador\\nSeptember 2023\\xa0-\\xa0September 2024\\xa0(1 year 1 month)\\nLearn Student Ambassadors are a global group of campus leaders who are\\neager to help fellow students, create robust tech communities, and develop\\ntechnical and career skills for the future.\\nAlpha Microsoft Learn Student Ambassador \\n\\xa0 Page 1 of 3\")"
      ]
     },
     "execution_count": 114,
     "metadata": {},
     "output_type": "execute_result"
    }
   ],
   "source": [
    "\n",
    "\n",
    "docs_pypdf_loader = loader.load() # Renamed to avoid conflict if 'docs' is used later\n",
    "print(f\"Successfully loaded {len(docs_pypdf_loader)} documents/pages using PyPDFLoader.\")\n",
    "\n",
    "docs_pypdf_loader[0].metadata, docs_pypdf_loader[0].page_content\n",
    "\n",
    "\n"
   ]
  },
  {
   "cell_type": "code",
   "execution_count": 115,
   "id": "ecc42270",
   "metadata": {},
   "outputs": [
    {
     "name": "stdout",
     "output_type": "stream",
     "text": [
      "Note: you may need to restart the kernel to use updated packages.\n"
     ]
    },
    {
     "name": "stderr",
     "output_type": "stream",
     "text": [
      "\n",
      "[notice] A new release of pip is available: 25.0.1 -> 25.1.1\n",
      "[notice] To update, run: python.exe -m pip install --upgrade pip\n"
     ]
    },
    {
     "name": "stdout",
     "output_type": "stream",
     "text": [
      "Defaulting to user installation because normal site-packages is not writeable\n",
      "Requirement already satisfied: PyMuPDF in c:\\users\\parth\\appdata\\roaming\\python\\python312\\site-packages (1.25.5)\n"
     ]
    }
   ],
   "source": [
    "pip install PyMuPDF"
   ]
  },
  {
   "cell_type": "code",
   "execution_count": 116,
   "id": "6a67ac2b",
   "metadata": {},
   "outputs": [],
   "source": [
    "import pymupdf  # PyMuPDF\n",
    "import os,sys\n",
    "\n",
    "# Define the PDF file path (can be set once at the top of your notebook)\n",
    "pdf_file_path = \"../demo_src_data/1page.pdf\"\n",
    "output_image_dir_pymupdf = \"../extracted_images_pymupdf\"\n"
   ]
  },
  {
   "cell_type": "code",
   "execution_count": 117,
   "id": "3b871018",
   "metadata": {},
   "outputs": [
    {
     "name": "stdout",
     "output_type": "stream",
     "text": [
      "--- PyMuPDF (Fitz) Demonstration for ../demo_src_data/1page.pdf ---\n"
     ]
    }
   ],
   "source": [
    "if not os.path.exists(output_image_dir_pymupdf):\n",
    "    os.makedirs(output_image_dir_pymupdf)\n",
    "print(f\"--- PyMuPDF (Fitz) Demonstration for {pdf_file_path} ---\")"
   ]
  },
  {
   "cell_type": "code",
   "execution_count": 118,
   "id": "4d3edc54",
   "metadata": {},
   "outputs": [
    {
     "data": {
      "text/plain": [
       "Document('../demo_src_data/1page.pdf')"
      ]
     },
     "execution_count": 118,
     "metadata": {},
     "output_type": "execute_result"
    }
   ],
   "source": [
    "doc = pymupdf.open(pdf_file_path)\n",
    "doc"
   ]
  },
  {
   "cell_type": "code",
   "execution_count": 119,
   "id": "a85e242b",
   "metadata": {},
   "outputs": [
    {
     "name": "stdout",
     "output_type": "stream",
     "text": [
      "\n",
      "--- Text Extraction (PyMuPDF) ---\n",
      "Page 1 text snippet: ...\n"
     ]
    }
   ],
   "source": [
    "# Text Extraction\n",
    "print(\"\\n--- Text Extraction (PyMuPDF) ---\")\n",
    "for i, page in enumerate(doc):\n",
    "    text = page.get_text()\n",
    "    print(f\"Page {i+1} text snippet: {text.strip()}...\")\n",
    "    "
   ]
  },
  {
   "cell_type": "code",
   "execution_count": 120,
   "id": "059a31b7",
   "metadata": {},
   "outputs": [
    {
     "name": "stdout",
     "output_type": "stream",
     "text": [
      "\n",
      "--- Image Extraction (PyMuPDF) ---\n"
     ]
    },
    {
     "data": {
      "text/plain": [
       "[(6, 0, 430, 650, 8, 'DeviceRGB', '', 'Image0', 'DCTDecode')]"
      ]
     },
     "execution_count": 120,
     "metadata": {},
     "output_type": "execute_result"
    }
   ],
   "source": [
    "# Image Extraction\n",
    "print(\"\\n--- Image Extraction (PyMuPDF) ---\")\n",
    "images_extracted_pymupdf = False\n",
    "for page_index in range(len(doc)):\n",
    "    image_list = doc.get_page_images(page_index)\n",
    "image_list"
   ]
  },
  {
   "cell_type": "code",
   "execution_count": 121,
   "id": "1f81afae",
   "metadata": {},
   "outputs": [
    {
     "name": "stdout",
     "output_type": "stream",
     "text": [
      "Found 1 images on page 1\n",
      "Saved image: ../extracted_images_pymupdf\\pymupdf_image_p1_1.jpeg\n"
     ]
    }
   ],
   "source": [
    "if image_list:\n",
    "        images_extracted_pymupdf = True\n",
    "        print(f\"Found {len(image_list)} images on page {page_index + 1}\")\n",
    "        for image_index, img_info in enumerate(image_list):\n",
    "            xref = img_info[0]\n",
    "            base_image = doc.extract_image(xref)\n",
    "            image_bytes = base_image[\"image\"]\n",
    "            image_ext = base_image[\"ext\"]\n",
    "            image_filename = f\"pymupdf_image_p{page_index+1}_{image_index+1}.{image_ext}\"\n",
    "            image_save_path = os.path.join(output_image_dir_pymupdf, image_filename)\n",
    "            with open(image_save_path, \"wb\") as img_file:\n",
    "                img_file.write(image_bytes)\n",
    "            print(f\"Saved image: {image_save_path}\")\n",
    "else:\n",
    "    print(f\"No images found on page {page_index + 1} by PyMuPDF.\")"
   ]
  },
  {
   "cell_type": "code",
   "execution_count": null,
   "id": "ebe8be09",
   "metadata": {},
   "outputs": [],
   "source": []
  },
  {
   "cell_type": "code",
   "execution_count": null,
   "metadata": {},
   "outputs": [],
   "source": []
  },
  {
   "cell_type": "code",
   "execution_count": null,
   "id": "caf70115",
   "metadata": {},
   "outputs": [],
   "source": []
  },
  {
   "cell_type": "code",
   "execution_count": null,
   "metadata": {},
   "outputs": [],
   "source": []
  },
  {
   "cell_type": "code",
   "execution_count": 95,
   "id": "5c2a6995",
   "metadata": {},
   "outputs": [
    {
     "name": "stdout",
     "output_type": "stream",
     "text": [
      "Defaulting to user installation because normal site-packages is not writeableNote: you may need to restart the kernel to use updated packages.\n",
      "\n",
      "Requirement already satisfied: pdfplumber in c:\\program files\\python312\\lib\\site-packages (0.11.5)\n",
      "Requirement already satisfied: pdfminer.six==20231228 in c:\\program files\\python312\\lib\\site-packages (from pdfplumber) (20231228)\n",
      "Requirement already satisfied: Pillow>=9.1 in c:\\users\\parth\\appdata\\roaming\\python\\python312\\site-packages (from pdfplumber) (11.2.1)\n",
      "Requirement already satisfied: pypdfium2>=4.18.0 in c:\\users\\parth\\appdata\\roaming\\python\\python312\\site-packages (from pdfplumber) (4.30.1)\n",
      "Requirement already satisfied: charset-normalizer>=2.0.0 in c:\\program files\\python312\\lib\\site-packages (from pdfminer.six==20231228->pdfplumber) (3.4.1)\n",
      "Requirement already satisfied: cryptography>=36.0.0 in c:\\program files\\python312\\lib\\site-packages (from pdfminer.six==20231228->pdfplumber) (44.0.0)\n",
      "Requirement already satisfied: cffi>=1.12 in c:\\program files\\python312\\lib\\site-packages (from cryptography>=36.0.0->pdfminer.six==20231228->pdfplumber) (1.17.1)\n",
      "Requirement already satisfied: pycparser in c:\\program files\\python312\\lib\\site-packages (from cffi>=1.12->cryptography>=36.0.0->pdfminer.six==20231228->pdfplumber) (2.22)\n"
     ]
    },
    {
     "name": "stderr",
     "output_type": "stream",
     "text": [
      "\n",
      "[notice] A new release of pip is available: 25.0.1 -> 25.1.1\n",
      "[notice] To update, run: python.exe -m pip install --upgrade pip\n"
     ]
    }
   ],
   "source": [
    "pip install pdfplumber"
   ]
  },
  {
   "cell_type": "code",
   "execution_count": 107,
   "id": "f77b0fa7",
   "metadata": {},
   "outputs": [],
   "source": [
    "import pdfplumber"
   ]
  },
  {
   "cell_type": "code",
   "execution_count": 123,
   "id": "7296ceda",
   "metadata": {},
   "outputs": [],
   "source": [
    "pdf_file_path = \"../demo_src_data/idfc.pdf\"\n",
    "output_image_dir_pymupdf = \"../extracted_images_pymupdf\""
   ]
  },
  {
   "cell_type": "code",
   "execution_count": 129,
   "id": "bb870bef",
   "metadata": {},
   "outputs": [
    {
     "name": "stdout",
     "output_type": "stream",
     "text": [
      "Opened '../demo_src_data/idfc.pdf' with pdfplumber. Pages: 405\n",
      "\n",
      "--- Text Extraction (pdfplumber) ---\n",
      "Page 1 text snippet: IDFCFIRSTBANK/SD/148/2024-25 August 07, 2024\n",
      "National Stock Exchange of India Limited BSE Limited\n",
      "Ex...\n",
      "Page 2 text snippet: 1 Notice of the 10th AGM\n",
      "Notice\n",
      "Notice\n",
      "IDFC FIRST Bank Limited\n",
      "CIN: L65110TN2014PLC097792\n",
      "Registered...\n",
      "Page 3 text snippet: enactment(s) thereof, for the time being in force), M/s. (i) payment of fixed remuneration of ` 30,0...\n",
      "Page 4 text snippet: 3 Notice of the 10th AGM\n",
      "Notice\n",
      "dated May 16, 2024, and subject to such other approvals, Time Direct...\n",
      "Page 5 text snippet: RESOLVED FURTHER THAT in case of absence or RESOLVED FURTHER THAT the Board (including duly\n",
      "inadequa...\n",
      "Page 6 text snippet: 5 Notice of the 10th AGM\n",
      "Notice\n",
      "Tier-II Bonds/ Non-Convertible Debentures, Medium Term period of one...\n",
      "Page 7 text snippet: NOTES: 5. PROXIES:\n",
      "1. The Ministry of Corporate Affairs (“MCA”) vide General Pursuant to the provisi...\n",
      "Page 8 text snippet: 7 Notice of the 10th AGM\n",
      "Notice\n",
      "11. The Members seeking any information with regard to Member, as so...\n",
      "Page 9 text snippet: can contact the Bank’s RTA, KFIN, for assistance in 2024 at 05:00 p.m. IST. The e-voting module shal...\n",
      "Page 10 text snippet: 9 Notice of the 10th AGM\n",
      "Notice\n",
      "Step 1: Access to NSDL e-voting system.\n",
      "c. Visit the e-voting websit...\n",
      "Page 11 text snippet: 4. Your User ID details are given below:\n",
      "Individual Shareholders (holding securities in demat\n",
      "mode)...\n",
      "Page 12 text snippet: 11 Notice of the 10th AGM\n",
      "Notice\n",
      "c] If you are still unable to get the password by the aforesaid 3....\n",
      "Page 13 text snippet: C. INSTRUCTIONS FOR MEMBERS FOR ATTENDING Tablets or through Laptop connecting via Mobile\n",
      "THE BANK’S...\n",
      "Page 14 text snippet: 13 Notice of the 10th AGM\n",
      "Notice\n",
      "ANNEXURE TO NOTICE\n",
      "Statement pursuant to Section 102(1) of the Comp...\n",
      "Page 15 text snippet: [a] Audit Fees of ` 2.75 crore (Rupees Two crore and seventy ITEM NO. 5\n",
      "five lakhs only) per annum t...\n",
      "Page 16 text snippet: 15 Notice of the 10th AGM\n",
      "Notice\n",
      "The Members of the Bank are requested to note that the for a period...\n",
      "Page 17 text snippet: Performance based variable pay: appointment is in compliance with the provisions of Section\n",
      "10A of t...\n",
      "Page 18 text snippet: 17 Notice of the 10th AGM\n",
      "Notice\n",
      "as may be determined by the Board of Directors (“Board”) Circular a...\n",
      "Page 19 text snippet: 0.89%. Further, the Bank has already accomplished several advantage of them. It is essential for the...\n",
      "Page 20 text snippet: 19 Notice of the 10th AGM\n",
      "Notice\n",
      "The pricing of the debt securities referred above depends on up to...\n",
      "Page 21 text snippet: EXHIBIT A\n",
      "The details of Dr. Jaimini Bhagwati seeking re-appointment as Director as per item No. 3 a...\n",
      "Page 22 text snippet: 21 Notice of the 10th AGM\n",
      "Notice\n",
      "Name of the Director and Dr. Jaimini Bhagwati\n",
      "Designation\n",
      "Non-Execu...\n",
      "Page 23 text snippet: EXHIBIT B\n",
      "The details of Mr. Sanjeeb Chaudhuri seeking remuneration as Part-Time Non-Executive Chair...\n",
      "Page 24 text snippet: 23 Notice of the 10th AGM\n",
      "Notice\n",
      "Name of the Director and Sanjeeb Chaudhuri\n",
      "Designation Part-Time No...\n",
      "Page 25 text snippet: EXHIBIT C\n",
      "The details of Mr. Pradeep Natarajan seeking appointment as an Executive Director, pertain...\n",
      "Page 26 text snippet: 25 Notice of the 10th AGM\n",
      "Notice\n",
      "Name of the Director and Mr. Pradeep Natarajan\n",
      "Designation Executiv...\n",
      "Page 27 text snippet: EXHIBIT D\n",
      "The details of information of the Non-Executive Directors (other than those whose informat...\n",
      "Page 28 text snippet: 27 Notice of the 10th AGM\n",
      "Notice\n",
      "Name of the Director and Mr. Aashish Kamat Mr. Pravir Vohra\n",
      "Designa...\n",
      "Page 29 text snippet: Name of the Director and Dr. (Mrs.) Brinda Jagirdar Ms. Matangi Gowrishankar\n",
      "Designation Independent...\n",
      "Page 30 text snippet: 29 Notice of the 10th AGM\n",
      "Notice\n",
      "Name of the Director and Dr. (Mrs.) Brinda Jagirdar Ms. Matangi Gow...\n",
      "Page 31 text snippet: Name of the Director and Dr. (Mrs.) Brinda Jagirdar Ms. Matangi Gowrishankar\n",
      "Designation Independent...\n",
      "Page 32 text snippet: 31 Notice of the 10th AGM\n",
      "Notice\n",
      "Name of the Director and Mr. S. Ganesh Kumar\n",
      "Designation Independen...\n",
      "Page 33 text snippet: GO - GREEN INITIATIVE AND\n",
      "INVESTOR EDUCATION & PROTECTION FUND\n",
      "Dear Shareholder, This process will a...\n",
      "Page 34 text snippet: Integrated Report 2023-24\n",
      "Measured Growth\n",
      "ack\n",
      "Hi\n",
      "g\n",
      "h\n",
      "St C\n",
      "y\n",
      "or\n",
      "g p\n",
      "o o r\n",
      "ol at\n",
      "hn e\n",
      "c G\n",
      "Te o\n",
      "v\n",
      "st e...\n",
      "Page 35 text snippet: Our Vision\n",
      "TO BUILD A WORLD\n",
      "CLASS BANK IN INDIA,\n",
      "ETHICS,\n",
      "GUIDED BY\n",
      "TECHNOLOGY,\n",
      "POWERED BY\n",
      "AND\n",
      "SOCIAL...\n",
      "Page 36 text snippet: Contents\n",
      "01-161 162-233\n",
      "Corporate Overview Statutory Reports\n",
      "Key Highlights 02 Directors’ Report 162...\n",
      "Page 37 text snippet: Key Highlights\n",
      "Performance Snapshot\n",
      "`2,00,965 `2,00,576\n",
      "crore crore\n",
      "LOANS & ADVANCES TOTAL DEPOSITS...\n"
     ]
    },
    {
     "ename": "KeyboardInterrupt",
     "evalue": "",
     "output_type": "error",
     "traceback": [
      "\u001b[1;31m---------------------------------------------------------------------------\u001b[0m",
      "\u001b[1;31mKeyboardInterrupt\u001b[0m                         Traceback (most recent call last)",
      "Cell \u001b[1;32mIn[129], line 6\u001b[0m\n\u001b[0;32m      4\u001b[0m \u001b[38;5;28mprint\u001b[39m(\u001b[38;5;124m\"\u001b[39m\u001b[38;5;130;01m\\n\u001b[39;00m\u001b[38;5;124m--- Text Extraction (pdfplumber) ---\u001b[39m\u001b[38;5;124m\"\u001b[39m)\n\u001b[0;32m      5\u001b[0m \u001b[38;5;28;01mfor\u001b[39;00m i, page \u001b[38;5;129;01min\u001b[39;00m \u001b[38;5;28menumerate\u001b[39m(pdf\u001b[38;5;241m.\u001b[39mpages):\n\u001b[1;32m----> 6\u001b[0m     text \u001b[38;5;241m=\u001b[39m \u001b[43mpage\u001b[49m\u001b[38;5;241;43m.\u001b[39;49m\u001b[43mextract_text\u001b[49m\u001b[43m(\u001b[49m\u001b[43m)\u001b[49m\n\u001b[0;32m      7\u001b[0m     \u001b[38;5;28;01mif\u001b[39;00m text:\n\u001b[0;32m      8\u001b[0m         \u001b[38;5;28mprint\u001b[39m(\u001b[38;5;124mf\u001b[39m\u001b[38;5;124m\"\u001b[39m\u001b[38;5;124mPage \u001b[39m\u001b[38;5;132;01m{\u001b[39;00mi\u001b[38;5;241m+\u001b[39m\u001b[38;5;241m1\u001b[39m\u001b[38;5;132;01m}\u001b[39;00m\u001b[38;5;124m text snippet: \u001b[39m\u001b[38;5;132;01m{\u001b[39;00mtext[:\u001b[38;5;241m100\u001b[39m]\u001b[38;5;241m.\u001b[39mstrip()\u001b[38;5;132;01m}\u001b[39;00m\u001b[38;5;124m...\u001b[39m\u001b[38;5;124m\"\u001b[39m)\n",
      "File \u001b[1;32mc:\\Program Files\\Python312\\Lib\\site-packages\\pdfplumber\\page.py:548\u001b[0m, in \u001b[0;36mPage.extract_text\u001b[1;34m(self, **kwargs)\u001b[0m\n\u001b[0;32m    547\u001b[0m \u001b[38;5;28;01mdef\u001b[39;00m\u001b[38;5;250m \u001b[39m\u001b[38;5;21mextract_text\u001b[39m(\u001b[38;5;28mself\u001b[39m, \u001b[38;5;241m*\u001b[39m\u001b[38;5;241m*\u001b[39mkwargs: Any) \u001b[38;5;241m-\u001b[39m\u001b[38;5;241m>\u001b[39m \u001b[38;5;28mstr\u001b[39m:\n\u001b[1;32m--> 548\u001b[0m     \u001b[38;5;28;01mreturn\u001b[39;00m \u001b[38;5;28;43mself\u001b[39;49m\u001b[38;5;241;43m.\u001b[39;49m\u001b[43mget_textmap\u001b[49m\u001b[43m(\u001b[49m\u001b[38;5;241;43m*\u001b[39;49m\u001b[38;5;241;43m*\u001b[39;49m\u001b[43mtuplify_list_kwargs\u001b[49m\u001b[43m(\u001b[49m\u001b[43mkwargs\u001b[49m\u001b[43m)\u001b[49m\u001b[43m)\u001b[49m\u001b[38;5;241m.\u001b[39mas_string\n",
      "File \u001b[1;32mc:\\Program Files\\Python312\\Lib\\site-packages\\pdfplumber\\page.py:525\u001b[0m, in \u001b[0;36mPage._get_textmap\u001b[1;34m(self, **kwargs)\u001b[0m\n\u001b[0;32m    523\u001b[0m     defaults\u001b[38;5;241m.\u001b[39mupdate({\u001b[38;5;124m\"\u001b[39m\u001b[38;5;124mlayout_height\u001b[39m\u001b[38;5;124m\"\u001b[39m: \u001b[38;5;28mself\u001b[39m\u001b[38;5;241m.\u001b[39mheight})\n\u001b[0;32m    524\u001b[0m full_kwargs: Dict[\u001b[38;5;28mstr\u001b[39m, Any] \u001b[38;5;241m=\u001b[39m {\u001b[38;5;241m*\u001b[39m\u001b[38;5;241m*\u001b[39mdefaults, \u001b[38;5;241m*\u001b[39m\u001b[38;5;241m*\u001b[39mkwargs}\n\u001b[1;32m--> 525\u001b[0m \u001b[38;5;28;01mreturn\u001b[39;00m utils\u001b[38;5;241m.\u001b[39mchars_to_textmap(\u001b[38;5;28;43mself\u001b[39;49m\u001b[38;5;241;43m.\u001b[39;49m\u001b[43mchars\u001b[49m, \u001b[38;5;241m*\u001b[39m\u001b[38;5;241m*\u001b[39mfull_kwargs)\n",
      "File \u001b[1;32mc:\\Program Files\\Python312\\Lib\\site-packages\\pdfplumber\\container.py:52\u001b[0m, in \u001b[0;36mContainer.chars\u001b[1;34m(self)\u001b[0m\n\u001b[0;32m     50\u001b[0m \u001b[38;5;129m@property\u001b[39m\n\u001b[0;32m     51\u001b[0m \u001b[38;5;28;01mdef\u001b[39;00m\u001b[38;5;250m \u001b[39m\u001b[38;5;21mchars\u001b[39m(\u001b[38;5;28mself\u001b[39m) \u001b[38;5;241m-\u001b[39m\u001b[38;5;241m>\u001b[39m T_obj_list:\n\u001b[1;32m---> 52\u001b[0m     \u001b[38;5;28;01mreturn\u001b[39;00m \u001b[38;5;28;43mself\u001b[39;49m\u001b[38;5;241;43m.\u001b[39;49m\u001b[43mobjects\u001b[49m\u001b[38;5;241m.\u001b[39mget(\u001b[38;5;124m\"\u001b[39m\u001b[38;5;124mchar\u001b[39m\u001b[38;5;124m\"\u001b[39m, [])\n",
      "File \u001b[1;32mc:\\Program Files\\Python312\\Lib\\site-packages\\pdfplumber\\page.py:357\u001b[0m, in \u001b[0;36mPage.objects\u001b[1;34m(self)\u001b[0m\n\u001b[0;32m    355\u001b[0m \u001b[38;5;28;01mif\u001b[39;00m \u001b[38;5;28mhasattr\u001b[39m(\u001b[38;5;28mself\u001b[39m, \u001b[38;5;124m\"\u001b[39m\u001b[38;5;124m_objects\u001b[39m\u001b[38;5;124m\"\u001b[39m):\n\u001b[0;32m    356\u001b[0m     \u001b[38;5;28;01mreturn\u001b[39;00m \u001b[38;5;28mself\u001b[39m\u001b[38;5;241m.\u001b[39m_objects\n\u001b[1;32m--> 357\u001b[0m \u001b[38;5;28mself\u001b[39m\u001b[38;5;241m.\u001b[39m_objects: Dict[\u001b[38;5;28mstr\u001b[39m, T_obj_list] \u001b[38;5;241m=\u001b[39m \u001b[38;5;28;43mself\u001b[39;49m\u001b[38;5;241;43m.\u001b[39;49m\u001b[43mparse_objects\u001b[49m\u001b[43m(\u001b[49m\u001b[43m)\u001b[49m\n\u001b[0;32m    358\u001b[0m \u001b[38;5;28;01mreturn\u001b[39;00m \u001b[38;5;28mself\u001b[39m\u001b[38;5;241m.\u001b[39m_objects\n",
      "File \u001b[1;32mc:\\Program Files\\Python312\\Lib\\site-packages\\pdfplumber\\page.py:461\u001b[0m, in \u001b[0;36mPage.parse_objects\u001b[1;34m(self)\u001b[0m\n\u001b[0;32m    459\u001b[0m \u001b[38;5;28;01mdef\u001b[39;00m\u001b[38;5;250m \u001b[39m\u001b[38;5;21mparse_objects\u001b[39m(\u001b[38;5;28mself\u001b[39m) \u001b[38;5;241m-\u001b[39m\u001b[38;5;241m>\u001b[39m Dict[\u001b[38;5;28mstr\u001b[39m, T_obj_list]:\n\u001b[0;32m    460\u001b[0m     objects: Dict[\u001b[38;5;28mstr\u001b[39m, T_obj_list] \u001b[38;5;241m=\u001b[39m {}\n\u001b[1;32m--> 461\u001b[0m     \u001b[38;5;28;01mfor\u001b[39;00m obj \u001b[38;5;129;01min\u001b[39;00m \u001b[38;5;28mself\u001b[39m\u001b[38;5;241m.\u001b[39miter_layout_objects(\u001b[38;5;28;43mself\u001b[39;49m\u001b[38;5;241;43m.\u001b[39;49m\u001b[43mlayout\u001b[49m\u001b[38;5;241m.\u001b[39m_objs):\n\u001b[0;32m    462\u001b[0m         kind \u001b[38;5;241m=\u001b[39m obj[\u001b[38;5;124m\"\u001b[39m\u001b[38;5;124mobject_type\u001b[39m\u001b[38;5;124m\"\u001b[39m]\n\u001b[0;32m    463\u001b[0m         \u001b[38;5;28;01mif\u001b[39;00m kind \u001b[38;5;129;01min\u001b[39;00m [\u001b[38;5;124m\"\u001b[39m\u001b[38;5;124manno\u001b[39m\u001b[38;5;124m\"\u001b[39m]:\n",
      "File \u001b[1;32mc:\\Program Files\\Python312\\Lib\\site-packages\\pdfplumber\\page.py:279\u001b[0m, in \u001b[0;36mPage.layout\u001b[1;34m(self)\u001b[0m\n\u001b[0;32m    273\u001b[0m device \u001b[38;5;241m=\u001b[39m PDFPageAggregatorWithMarkedContent(\n\u001b[0;32m    274\u001b[0m     \u001b[38;5;28mself\u001b[39m\u001b[38;5;241m.\u001b[39mpdf\u001b[38;5;241m.\u001b[39mrsrcmgr,\n\u001b[0;32m    275\u001b[0m     pageno\u001b[38;5;241m=\u001b[39m\u001b[38;5;28mself\u001b[39m\u001b[38;5;241m.\u001b[39mpage_number,\n\u001b[0;32m    276\u001b[0m     laparams\u001b[38;5;241m=\u001b[39m\u001b[38;5;28mself\u001b[39m\u001b[38;5;241m.\u001b[39mpdf\u001b[38;5;241m.\u001b[39mlaparams,\n\u001b[0;32m    277\u001b[0m )\n\u001b[0;32m    278\u001b[0m interpreter \u001b[38;5;241m=\u001b[39m PDFPageInterpreter(\u001b[38;5;28mself\u001b[39m\u001b[38;5;241m.\u001b[39mpdf\u001b[38;5;241m.\u001b[39mrsrcmgr, device)\n\u001b[1;32m--> 279\u001b[0m \u001b[43minterpreter\u001b[49m\u001b[38;5;241;43m.\u001b[39;49m\u001b[43mprocess_page\u001b[49m\u001b[43m(\u001b[49m\u001b[38;5;28;43mself\u001b[39;49m\u001b[38;5;241;43m.\u001b[39;49m\u001b[43mpage_obj\u001b[49m\u001b[43m)\u001b[49m\n\u001b[0;32m    280\u001b[0m \u001b[38;5;28mself\u001b[39m\u001b[38;5;241m.\u001b[39m_layout: LTPage \u001b[38;5;241m=\u001b[39m device\u001b[38;5;241m.\u001b[39mget_result()\n\u001b[0;32m    281\u001b[0m \u001b[38;5;28;01mreturn\u001b[39;00m \u001b[38;5;28mself\u001b[39m\u001b[38;5;241m.\u001b[39m_layout\n",
      "File \u001b[1;32mc:\\Program Files\\Python312\\Lib\\site-packages\\pdfminer\\pdfinterp.py:997\u001b[0m, in \u001b[0;36mPDFPageInterpreter.process_page\u001b[1;34m(self, page)\u001b[0m\n\u001b[0;32m    995\u001b[0m     ctm \u001b[38;5;241m=\u001b[39m (\u001b[38;5;241m1\u001b[39m, \u001b[38;5;241m0\u001b[39m, \u001b[38;5;241m0\u001b[39m, \u001b[38;5;241m1\u001b[39m, \u001b[38;5;241m-\u001b[39mx0, \u001b[38;5;241m-\u001b[39my0)\n\u001b[0;32m    996\u001b[0m \u001b[38;5;28mself\u001b[39m\u001b[38;5;241m.\u001b[39mdevice\u001b[38;5;241m.\u001b[39mbegin_page(page, ctm)\n\u001b[1;32m--> 997\u001b[0m \u001b[38;5;28;43mself\u001b[39;49m\u001b[38;5;241;43m.\u001b[39;49m\u001b[43mrender_contents\u001b[49m\u001b[43m(\u001b[49m\u001b[43mpage\u001b[49m\u001b[38;5;241;43m.\u001b[39;49m\u001b[43mresources\u001b[49m\u001b[43m,\u001b[49m\u001b[43m \u001b[49m\u001b[43mpage\u001b[49m\u001b[38;5;241;43m.\u001b[39;49m\u001b[43mcontents\u001b[49m\u001b[43m,\u001b[49m\u001b[43m \u001b[49m\u001b[43mctm\u001b[49m\u001b[38;5;241;43m=\u001b[39;49m\u001b[43mctm\u001b[49m\u001b[43m)\u001b[49m\n\u001b[0;32m    998\u001b[0m \u001b[38;5;28mself\u001b[39m\u001b[38;5;241m.\u001b[39mdevice\u001b[38;5;241m.\u001b[39mend_page(page)\n\u001b[0;32m    999\u001b[0m \u001b[38;5;28;01mreturn\u001b[39;00m\n",
      "File \u001b[1;32mc:\\Program Files\\Python312\\Lib\\site-packages\\pdfminer\\pdfinterp.py:1016\u001b[0m, in \u001b[0;36mPDFPageInterpreter.render_contents\u001b[1;34m(self, resources, streams, ctm)\u001b[0m\n\u001b[0;32m   1014\u001b[0m \u001b[38;5;28mself\u001b[39m\u001b[38;5;241m.\u001b[39minit_resources(resources)\n\u001b[0;32m   1015\u001b[0m \u001b[38;5;28mself\u001b[39m\u001b[38;5;241m.\u001b[39minit_state(ctm)\n\u001b[1;32m-> 1016\u001b[0m \u001b[38;5;28;43mself\u001b[39;49m\u001b[38;5;241;43m.\u001b[39;49m\u001b[43mexecute\u001b[49m\u001b[43m(\u001b[49m\u001b[43mlist_value\u001b[49m\u001b[43m(\u001b[49m\u001b[43mstreams\u001b[49m\u001b[43m)\u001b[49m\u001b[43m)\u001b[49m\n\u001b[0;32m   1017\u001b[0m \u001b[38;5;28;01mreturn\u001b[39;00m\n",
      "File \u001b[1;32mc:\\Program Files\\Python312\\Lib\\site-packages\\pdfminer\\pdfinterp.py:1042\u001b[0m, in \u001b[0;36mPDFPageInterpreter.execute\u001b[1;34m(self, streams)\u001b[0m\n\u001b[0;32m   1040\u001b[0m     log\u001b[38;5;241m.\u001b[39mdebug(\u001b[38;5;124m\"\u001b[39m\u001b[38;5;124mexec: \u001b[39m\u001b[38;5;132;01m%s\u001b[39;00m\u001b[38;5;124m \u001b[39m\u001b[38;5;132;01m%r\u001b[39;00m\u001b[38;5;124m\"\u001b[39m, name, args)\n\u001b[0;32m   1041\u001b[0m     \u001b[38;5;28;01mif\u001b[39;00m \u001b[38;5;28mlen\u001b[39m(args) \u001b[38;5;241m==\u001b[39m nargs:\n\u001b[1;32m-> 1042\u001b[0m         \u001b[43mfunc\u001b[49m\u001b[43m(\u001b[49m\u001b[38;5;241;43m*\u001b[39;49m\u001b[43margs\u001b[49m\u001b[43m)\u001b[49m\n\u001b[0;32m   1043\u001b[0m \u001b[38;5;28;01melse\u001b[39;00m:\n\u001b[0;32m   1044\u001b[0m     log\u001b[38;5;241m.\u001b[39mdebug(\u001b[38;5;124m\"\u001b[39m\u001b[38;5;124mexec: \u001b[39m\u001b[38;5;132;01m%s\u001b[39;00m\u001b[38;5;124m\"\u001b[39m, name)\n",
      "File \u001b[1;32mc:\\Program Files\\Python312\\Lib\\site-packages\\pdfminer\\pdfinterp.py:972\u001b[0m, in \u001b[0;36mPDFPageInterpreter.do_Do\u001b[1;34m(self, xobjid_arg)\u001b[0m\n\u001b[0;32m    970\u001b[0m         resources \u001b[38;5;241m=\u001b[39m \u001b[38;5;28mself\u001b[39m\u001b[38;5;241m.\u001b[39mresources\u001b[38;5;241m.\u001b[39mcopy()\n\u001b[0;32m    971\u001b[0m     \u001b[38;5;28mself\u001b[39m\u001b[38;5;241m.\u001b[39mdevice\u001b[38;5;241m.\u001b[39mbegin_figure(xobjid, bbox, matrix)\n\u001b[1;32m--> 972\u001b[0m     \u001b[43minterpreter\u001b[49m\u001b[38;5;241;43m.\u001b[39;49m\u001b[43mrender_contents\u001b[49m\u001b[43m(\u001b[49m\n\u001b[0;32m    973\u001b[0m \u001b[43m        \u001b[49m\u001b[43mresources\u001b[49m\u001b[43m,\u001b[49m\u001b[43m \u001b[49m\u001b[43m[\u001b[49m\u001b[43mxobj\u001b[49m\u001b[43m]\u001b[49m\u001b[43m,\u001b[49m\u001b[43m \u001b[49m\u001b[43mctm\u001b[49m\u001b[38;5;241;43m=\u001b[39;49m\u001b[43mmult_matrix\u001b[49m\u001b[43m(\u001b[49m\u001b[43mmatrix\u001b[49m\u001b[43m,\u001b[49m\u001b[43m \u001b[49m\u001b[38;5;28;43mself\u001b[39;49m\u001b[38;5;241;43m.\u001b[39;49m\u001b[43mctm\u001b[49m\u001b[43m)\u001b[49m\n\u001b[0;32m    974\u001b[0m \u001b[43m    \u001b[49m\u001b[43m)\u001b[49m\n\u001b[0;32m    975\u001b[0m     \u001b[38;5;28mself\u001b[39m\u001b[38;5;241m.\u001b[39mdevice\u001b[38;5;241m.\u001b[39mend_figure(xobjid)\n\u001b[0;32m    976\u001b[0m \u001b[38;5;28;01melif\u001b[39;00m subtype \u001b[38;5;129;01mis\u001b[39;00m LITERAL_IMAGE \u001b[38;5;129;01mand\u001b[39;00m \u001b[38;5;124m\"\u001b[39m\u001b[38;5;124mWidth\u001b[39m\u001b[38;5;124m\"\u001b[39m \u001b[38;5;129;01min\u001b[39;00m xobj \u001b[38;5;129;01mand\u001b[39;00m \u001b[38;5;124m\"\u001b[39m\u001b[38;5;124mHeight\u001b[39m\u001b[38;5;124m\"\u001b[39m \u001b[38;5;129;01min\u001b[39;00m xobj:\n",
      "File \u001b[1;32mc:\\Program Files\\Python312\\Lib\\site-packages\\pdfminer\\pdfinterp.py:1016\u001b[0m, in \u001b[0;36mPDFPageInterpreter.render_contents\u001b[1;34m(self, resources, streams, ctm)\u001b[0m\n\u001b[0;32m   1014\u001b[0m \u001b[38;5;28mself\u001b[39m\u001b[38;5;241m.\u001b[39minit_resources(resources)\n\u001b[0;32m   1015\u001b[0m \u001b[38;5;28mself\u001b[39m\u001b[38;5;241m.\u001b[39minit_state(ctm)\n\u001b[1;32m-> 1016\u001b[0m \u001b[38;5;28;43mself\u001b[39;49m\u001b[38;5;241;43m.\u001b[39;49m\u001b[43mexecute\u001b[49m\u001b[43m(\u001b[49m\u001b[43mlist_value\u001b[49m\u001b[43m(\u001b[49m\u001b[43mstreams\u001b[49m\u001b[43m)\u001b[49m\u001b[43m)\u001b[49m\n\u001b[0;32m   1017\u001b[0m \u001b[38;5;28;01mreturn\u001b[39;00m\n",
      "File \u001b[1;32mc:\\Program Files\\Python312\\Lib\\site-packages\\pdfminer\\pdfinterp.py:1027\u001b[0m, in \u001b[0;36mPDFPageInterpreter.execute\u001b[1;34m(self, streams)\u001b[0m\n\u001b[0;32m   1025\u001b[0m \u001b[38;5;28;01mwhile\u001b[39;00m \u001b[38;5;241m1\u001b[39m:\n\u001b[0;32m   1026\u001b[0m     \u001b[38;5;28;01mtry\u001b[39;00m:\n\u001b[1;32m-> 1027\u001b[0m         (_, obj) \u001b[38;5;241m=\u001b[39m \u001b[43mparser\u001b[49m\u001b[38;5;241;43m.\u001b[39;49m\u001b[43mnextobject\u001b[49m\u001b[43m(\u001b[49m\u001b[43m)\u001b[49m\n\u001b[0;32m   1028\u001b[0m     \u001b[38;5;28;01mexcept\u001b[39;00m PSEOF:\n\u001b[0;32m   1029\u001b[0m         \u001b[38;5;28;01mbreak\u001b[39;00m\n",
      "File \u001b[1;32mc:\\Program Files\\Python312\\Lib\\site-packages\\pdfminer\\psparser.py:612\u001b[0m, in \u001b[0;36mPSStackParser.nextobject\u001b[1;34m(self)\u001b[0m\n\u001b[0;32m    609\u001b[0m (pos, token) \u001b[38;5;241m=\u001b[39m \u001b[38;5;28mself\u001b[39m\u001b[38;5;241m.\u001b[39mnexttoken()\n\u001b[0;32m    610\u001b[0m \u001b[38;5;28;01mif\u001b[39;00m \u001b[38;5;28misinstance\u001b[39m(token, (\u001b[38;5;28mint\u001b[39m, \u001b[38;5;28mfloat\u001b[39m, \u001b[38;5;28mbool\u001b[39m, \u001b[38;5;28mstr\u001b[39m, \u001b[38;5;28mbytes\u001b[39m, PSLiteral)):\n\u001b[0;32m    611\u001b[0m     \u001b[38;5;66;03m# normal token\u001b[39;00m\n\u001b[1;32m--> 612\u001b[0m     \u001b[38;5;28;43mself\u001b[39;49m\u001b[38;5;241;43m.\u001b[39;49m\u001b[43mpush\u001b[49m\u001b[43m(\u001b[49m\u001b[43m(\u001b[49m\u001b[43mpos\u001b[49m\u001b[43m,\u001b[49m\u001b[43m \u001b[49m\u001b[43mtoken\u001b[49m\u001b[43m)\u001b[49m\u001b[43m)\u001b[49m\n\u001b[0;32m    613\u001b[0m \u001b[38;5;28;01melif\u001b[39;00m token \u001b[38;5;241m==\u001b[39m KEYWORD_ARRAY_BEGIN:\n\u001b[0;32m    614\u001b[0m     \u001b[38;5;66;03m# begin array\u001b[39;00m\n\u001b[0;32m    615\u001b[0m     \u001b[38;5;28mself\u001b[39m\u001b[38;5;241m.\u001b[39mstart_type(pos, \u001b[38;5;124m\"\u001b[39m\u001b[38;5;124ma\u001b[39m\u001b[38;5;124m\"\u001b[39m)\n",
      "File \u001b[1;32mc:\\Program Files\\Python312\\Lib\\site-packages\\pdfminer\\psparser.py:562\u001b[0m, in \u001b[0;36mPSStackParser.push\u001b[1;34m(self, *objs)\u001b[0m\n\u001b[0;32m    561\u001b[0m \u001b[38;5;28;01mdef\u001b[39;00m\u001b[38;5;250m \u001b[39m\u001b[38;5;21mpush\u001b[39m(\u001b[38;5;28mself\u001b[39m, \u001b[38;5;241m*\u001b[39mobjs: PSStackEntry[ExtraT]) \u001b[38;5;241m-\u001b[39m\u001b[38;5;241m>\u001b[39m \u001b[38;5;28;01mNone\u001b[39;00m:\n\u001b[1;32m--> 562\u001b[0m     \u001b[38;5;28;43mself\u001b[39;49m\u001b[38;5;241;43m.\u001b[39;49m\u001b[43mcurstack\u001b[49m\u001b[38;5;241;43m.\u001b[39;49m\u001b[43mextend\u001b[49m\u001b[43m(\u001b[49m\u001b[43mobjs\u001b[49m\u001b[43m)\u001b[49m\n\u001b[0;32m    563\u001b[0m     \u001b[38;5;28;01mreturn\u001b[39;00m\n",
      "\u001b[1;31mKeyboardInterrupt\u001b[0m: "
     ]
    }
   ],
   "source": [
    "with pdfplumber.open(pdf_file_path) as pdf:\n",
    "    print(f\"Opened '{pdf_file_path}' with pdfplumber. Pages: {len(pdf.pages)}\")\n",
    "\n",
    "    print(\"\\n--- Text Extraction (pdfplumber) ---\")\n",
    "    for i, page in enumerate(pdf.pages):\n",
    "        text = page.extract_text()\n",
    "        if text:\n",
    "            print(f\"Page {i+1} text snippet: {text[:100].strip()}...\")\n",
    "\n",
    "    \n",
    "        "
   ]
  },
  {
   "cell_type": "code",
   "execution_count": 126,
   "id": "80646bd3",
   "metadata": {},
   "outputs": [],
   "source": [
    "import pandas as pd"
   ]
  },
  {
   "cell_type": "code",
   "execution_count": 127,
   "id": "37a32525",
   "metadata": {},
   "outputs": [
    {
     "name": "stdout",
     "output_type": "stream",
     "text": [
      "Accessed the third page: <Page:28>\n",
      "Number of tables on the page: 2\n",
      "\n",
      "--- Pandas DataFrame for Table 1 ---\n",
      "                                       0  \\\n",
      "0  Name of the Director and\\nDesignation   \n",
      "1                                   None   \n",
      "2                                   None   \n",
      "3                                   None   \n",
      "\n",
      "                                                   1  \\\n",
      "0            Mr. Aashish Kamat\\nIndependent Director   \n",
      "1  IDFC FIRST Bank Limited\\nChairperson - Audit C...   \n",
      "2  FY 2023-24: 12/12\\nFrom April 1 to June 30, 20...   \n",
      "3  Fixed Remuneration as an Independent\\nDirector...   \n",
      "\n",
      "                                        2  \n",
      "0  Mr. Pravir Vohra\\nIndependent Director  \n",
      "1                                    None  \n",
      "2                                    None  \n",
      "3                                    None  \n",
      "\n",
      "--- Pandas DataFrame for Table 2 ---\n",
      "        0\n",
      "0  75,000\n",
      "1    None\n"
     ]
    }
   ],
   "source": [
    "\n",
    "with pdfplumber.open(pdf_file_path) as pdf:\n",
    "    third_page = pdf.pages[27]\n",
    "    print(f\"Accessed the third page: {third_page}\")\n",
    "    # You can now work with the 'third_page' object\n",
    "    # For example, extract tables:\n",
    "    tables = third_page.extract_tables()\n",
    "    if tables:\n",
    "        print(f\"Number of tables on the page: {len(tables)}\")\n",
    "        for i, table_data in enumerate(tables):\n",
    "            print(f\"\\n--- Pandas DataFrame for Table {i+1} ---\")\n",
    "            df = pd.DataFrame(table_data)\n",
    "            print(df)"
   ]
  },
  {
   "cell_type": "code",
   "execution_count": null,
   "id": "4643ac47",
   "metadata": {},
   "outputs": [],
   "source": [
    "\n",
    "\n",
    "\n"
   ]
  },
  {
   "cell_type": "code",
   "execution_count": null,
   "id": "15ddc5be",
   "metadata": {},
   "outputs": [],
   "source": []
  },
  {
   "cell_type": "code",
   "execution_count": 102,
   "id": "344bda45",
   "metadata": {},
   "outputs": [],
   "source": [
    "# for strucutreed tables"
   ]
  },
  {
   "cell_type": "code",
   "execution_count": 101,
   "id": "07e31986",
   "metadata": {},
   "outputs": [
    {
     "name": "stdout",
     "output_type": "stream",
     "text": [
      "Note: you may need to restart the kernel to use updated packages.\n"
     ]
    },
    {
     "name": "stderr",
     "output_type": "stream",
     "text": [
      "WARNING: camelot-py 1.0.0 does not provide the extra 'cv'\n",
      "ERROR: pip's dependency resolver does not currently take into account all the packages that are installed. This behaviour is the source of the following dependency conflicts.\n",
      "pdfplumber 0.11.5 requires pdfminer.six==20231228, but you have pdfminer-six 20250506 which is incompatible.\n",
      "\n",
      "[notice] A new release of pip is available: 25.0.1 -> 25.1.1\n",
      "[notice] To update, run: python.exe -m pip install --upgrade pip\n"
     ]
    },
    {
     "name": "stdout",
     "output_type": "stream",
     "text": [
      "Defaulting to user installation because normal site-packages is not writeable\n",
      "Collecting camelot-py[cv]\n",
      "  Downloading camelot_py-1.0.0-py3-none-any.whl.metadata (9.4 kB)\n",
      "Requirement already satisfied: click>=8.0.1 in c:\\program files\\python312\\lib\\site-packages (from camelot-py[cv]) (8.1.8)\n",
      "Collecting chardet>=5.1.0 (from camelot-py[cv])\n",
      "  Downloading chardet-5.2.0-py3-none-any.whl.metadata (3.4 kB)\n",
      "Requirement already satisfied: numpy>=1.26.1 in c:\\program files\\python312\\lib\\site-packages (from camelot-py[cv]) (2.2.2)\n",
      "Collecting openpyxl>=3.1.0 (from camelot-py[cv])\n",
      "  Using cached openpyxl-3.1.5-py2.py3-none-any.whl.metadata (2.5 kB)\n",
      "Collecting pdfminer-six>=20240706 (from camelot-py[cv])\n",
      "  Downloading pdfminer_six-20250506-py3-none-any.whl.metadata (4.2 kB)\n",
      "Requirement already satisfied: pypdf<6.0,>=4.0 in c:\\users\\parth\\appdata\\roaming\\python\\python312\\site-packages (from camelot-py[cv]) (5.4.0)\n",
      "Requirement already satisfied: pandas>=2.2.2 in c:\\program files\\python312\\lib\\site-packages (from camelot-py[cv]) (2.2.3)\n",
      "Requirement already satisfied: tabulate>=0.9.0 in c:\\program files\\python312\\lib\\site-packages (from camelot-py[cv]) (0.9.0)\n",
      "Collecting opencv-python-headless>=4.7.0.68 (from camelot-py[cv])\n",
      "  Using cached opencv_python_headless-4.11.0.86-cp37-abi3-win_amd64.whl.metadata (20 kB)\n",
      "Requirement already satisfied: pypdfium2>=4 in c:\\users\\parth\\appdata\\roaming\\python\\python312\\site-packages (from camelot-py[cv]) (4.30.1)\n",
      "Requirement already satisfied: colorama in c:\\program files\\python312\\lib\\site-packages (from click>=8.0.1->camelot-py[cv]) (0.4.6)\n",
      "Requirement already satisfied: et-xmlfile in c:\\program files\\python312\\lib\\site-packages (from openpyxl>=3.1.0->camelot-py[cv]) (2.0.0)\n",
      "Requirement already satisfied: python-dateutil>=2.8.2 in c:\\program files\\python312\\lib\\site-packages (from pandas>=2.2.2->camelot-py[cv]) (2.9.0.post0)\n",
      "Requirement already satisfied: pytz>=2020.1 in c:\\program files\\python312\\lib\\site-packages (from pandas>=2.2.2->camelot-py[cv]) (2024.2)\n",
      "Requirement already satisfied: tzdata>=2022.7 in c:\\program files\\python312\\lib\\site-packages (from pandas>=2.2.2->camelot-py[cv]) (2025.1)\n",
      "Requirement already satisfied: charset-normalizer>=2.0.0 in c:\\program files\\python312\\lib\\site-packages (from pdfminer-six>=20240706->camelot-py[cv]) (3.4.1)\n",
      "Requirement already satisfied: cryptography>=36.0.0 in c:\\program files\\python312\\lib\\site-packages (from pdfminer-six>=20240706->camelot-py[cv]) (44.0.0)\n",
      "Requirement already satisfied: cffi>=1.12 in c:\\program files\\python312\\lib\\site-packages (from cryptography>=36.0.0->pdfminer-six>=20240706->camelot-py[cv]) (1.17.1)\n",
      "Requirement already satisfied: six>=1.5 in c:\\program files\\python312\\lib\\site-packages (from python-dateutil>=2.8.2->pandas>=2.2.2->camelot-py[cv]) (1.17.0)\n",
      "Requirement already satisfied: pycparser in c:\\program files\\python312\\lib\\site-packages (from cffi>=1.12->cryptography>=36.0.0->pdfminer-six>=20240706->camelot-py[cv]) (2.22)\n",
      "Downloading chardet-5.2.0-py3-none-any.whl (199 kB)\n",
      "Using cached opencv_python_headless-4.11.0.86-cp37-abi3-win_amd64.whl (39.4 MB)\n",
      "Using cached openpyxl-3.1.5-py2.py3-none-any.whl (250 kB)\n",
      "Downloading pdfminer_six-20250506-py3-none-any.whl (5.6 MB)\n",
      "   ---------------------------------------- 0.0/5.6 MB ? eta -:--:--\n",
      "   ------- -------------------------------- 1.0/5.6 MB 5.6 MB/s eta 0:00:01\n",
      "   -------------------- ------------------- 2.9/5.6 MB 7.3 MB/s eta 0:00:01\n",
      "   ------------------------------- -------- 4.5/5.6 MB 7.3 MB/s eta 0:00:01\n",
      "   ---------------------------------------- 5.6/5.6 MB 7.1 MB/s eta 0:00:00\n",
      "Downloading camelot_py-1.0.0-py3-none-any.whl (66 kB)\n",
      "Installing collected packages: openpyxl, opencv-python-headless, chardet, pdfminer-six, camelot-py\n",
      "Successfully installed camelot-py-1.0.0 chardet-5.2.0 opencv-python-headless-4.11.0.86 openpyxl-3.1.5 pdfminer-six-20250506\n"
     ]
    }
   ],
   "source": [
    "pip install camelot-py[cv]"
   ]
  },
  {
   "cell_type": "code",
   "execution_count": 128,
   "id": "33fba793",
   "metadata": {},
   "outputs": [
    {
     "name": "stdout",
     "output_type": "stream",
     "text": [
      "\n",
      "--- Whole Table Extraction (Camelot) Demonstration for ../demo_src_data/idfc.pdf - Page 28 ---\n",
      "Trying Camelot with flavor='lattice' on page 28...\n",
      "Found 1 tables on page 28 using Camelot (lattice).\n",
      "\n",
      "--- Whole Table 1 (Lattice) ---\n",
      "                                                   0  \\\n",
      "0         Name  of  the  Director  and \\nDesignation   \n",
      "1  Chairmanships \\n/ \\nMemberships \\nof \\nCommitt...   \n",
      "2  Number \\nof \\nBoard \\nMeetings  attended  duri...   \n",
      "3  Remuneration  last  drawn \\nfrom  Bank  (upto ...   \n",
      "4      Details  of  Remuneration \\nsought to be paid   \n",
      "5  Number  of  Equity  Shares \\nheld  in  IDFC  F...   \n",
      "6  Relationship  with \\nother \\nDirectors, Manage...   \n",
      "\n",
      "                                                   1  \\\n",
      "0            Mr. Aashish Kamat\\nIndependent Director   \n",
      "1  IDFC FIRST Bank Limited \\nChairperson - Audit ...   \n",
      "2  FY 2023-24: 12/12\\nFrom April 1 to June 30, 20...   \n",
      "3  Fixed \\nRemuneration \\nas \\nan \\nIndependent \\...   \n",
      "4  As provided in resolution set out in Item No. ...   \n",
      "5                                             75,000   \n",
      "6                                               None   \n",
      "\n",
      "                                                   2  \n",
      "0             Mr. Pravir Vohra\\nIndependent Director  \n",
      "1  IDFC FIRST Bank Limited \\nChairperson - (a) IT...  \n",
      "2  FY 2023-24: 12/12\\nFrom April 1 to June 30, 20...  \n",
      "3  Fixed Remuneration as an Independent Director ...  \n",
      "4                                                     \n",
      "5                                           7,10,000  \n",
      "6                                               None  \n"
     ]
    }
   ],
   "source": [
    "import camelot\n",
    "\n",
    "\n",
    "print(f\"\\n--- Whole Table Extraction (Camelot) Demonstration for {pdf_file_path} - Page 28 ---\")\n",
    "try:\n",
    "    # Try 'lattice' flavor first for tables with clear lines\n",
    "    print(\"Trying Camelot with flavor='lattice' on page 28...\")\n",
    "    tables_lattice = camelot.read_pdf(pdf_file_path, pages='28', flavor='lattice')\n",
    "\n",
    "    if tables_lattice.n > 0:\n",
    "        print(f\"Found {tables_lattice.n} tables on page 28 using Camelot (lattice).\")\n",
    "        for i in range(tables_lattice.n):\n",
    "            table_df = tables_lattice[i].df\n",
    "            print(f\"\\n--- Whole Table {i+1} (Lattice) ---\\n{table_df}\")\n",
    "            # tables_lattice[i].to_csv(f'camelot_table_lattice_p28_{i+1}.csv', index=False) # Option to save\n",
    "    else:\n",
    "        print(\"No tables found by Camelot (lattice) on page 28.\")\n",
    "        # If 'lattice' doesn't work, try 'stream' for tables separated by whitespace\n",
    "        print(\"Trying Camelot with flavor='stream' on page 28...\")\n",
    "        tables_stream = camelot.read_pdf(pdf_file_path, pages='28', flavor='stream')\n",
    "        if tables_stream.n > 0:\n",
    "            print(f\"Found {tables_stream.n} tables on page 28 using Camelot (stream).\")\n",
    "            for i in range(tables_stream.n):\n",
    "                table_df = tables_stream[i].df\n",
    "                print(f\"\\n--- Whole Table {i+1} (Stream) ---\\n{table_df}\")\n",
    "                # tables_stream[i].to_csv(f'camelot_table_stream_p28_{i+1}.csv', index=False) # Option to save\n",
    "        else:\n",
    "            print(\"No tables found by Camelot (stream) on page 28 either.\")\n",
    "            print(\"Note: Camelot works best on PDFs with clearly defined tabular structures. \"\n",
    "                  \"The tables on this page might require different parsing parameters.\")\n",
    "\n",
    "except ImportError:\n",
    "    print(\"Camelot or its dependencies might not be installed correctly.\")\n",
    "except Exception as e:\n",
    "    if \"Ghostscript\" in str(e) or \"ghostscript\" in str(e).lower():\n",
    "        print(f\"Camelot Error: Ghostscript not found or failed. \"\n",
    "              \"Please install Ghostscript and ensure it's in your system PATH. Error: {e}\")\n",
    "    else:\n",
    "        print(f\"Error with Camelot: {e}\")"
   ]
  },
  {
   "cell_type": "code",
   "execution_count": null,
   "id": "9cb702ed",
   "metadata": {},
   "outputs": [],
   "source": []
  },
  {
   "cell_type": "code",
   "execution_count": 1,
   "id": "719f726d",
   "metadata": {},
   "outputs": [
    {
     "ename": "ModuleNotFoundError",
     "evalue": "No module named 'PyMuPDF'",
     "output_type": "error",
     "traceback": [
      "\u001b[31m---------------------------------------------------------------------------\u001b[39m",
      "\u001b[31mModuleNotFoundError\u001b[39m                       Traceback (most recent call last)",
      "\u001b[36mCell\u001b[39m\u001b[36m \u001b[39m\u001b[32mIn[1]\u001b[39m\u001b[32m, line 1\u001b[39m\n\u001b[32m----> \u001b[39m\u001b[32m1\u001b[39m \u001b[38;5;28;01mfrom\u001b[39;00m\u001b[38;5;250m \u001b[39m\u001b[34;01mpdf_documents\u001b[39;00m\u001b[38;5;250m \u001b[39m\u001b[38;5;28;01mimport\u001b[39;00m extract_text_blocks, extract_images_with_ocr, extract_tables, extract_unstructured_elements,process_pdf\n",
      "\u001b[36mFile \u001b[39m\u001b[32mc:\\Users\\parth\\OneDrive\\Desktop\\one\\MyPersona\\pdf_documents\\pdf_documents.py:2\u001b[39m\n\u001b[32m      1\u001b[39m \u001b[38;5;28;01mimport\u001b[39;00m\u001b[38;5;250m \u001b[39m\u001b[34;01mos\u001b[39;00m\n\u001b[32m----> \u001b[39m\u001b[32m2\u001b[39m \u001b[38;5;28;01mimport\u001b[39;00m\u001b[38;5;250m \u001b[39m\u001b[34;01mPyMuPDF\u001b[39;00m  \u001b[38;5;66;03m# PyMuPDF\u001b[39;00m\n\u001b[32m      3\u001b[39m \u001b[38;5;28;01mimport\u001b[39;00m\u001b[38;5;250m \u001b[39m\u001b[34;01mtabula\u001b[39;00m\n\u001b[32m      4\u001b[39m \u001b[38;5;28;01mimport\u001b[39;00m\u001b[38;5;250m \u001b[39m\u001b[34;01mpytesseract\u001b[39;00m\n",
      "\u001b[31mModuleNotFoundError\u001b[39m: No module named 'PyMuPDF'"
     ]
    }
   ],
   "source": [
    "from pdf_documents import extract_text_blocks, extract_images_with_ocr, extract_tables, extract_unstructured_elements,process_pdf"
   ]
  },
  {
   "cell_type": "code",
   "execution_count": null,
   "id": "57b8cbe3",
   "metadata": {},
   "outputs": [],
   "source": []
  }
 ],
 "metadata": {
  "kernelspec": {
   "display_name": "venv",
   "language": "python",
   "name": "python3"
  },
  "language_info": {
   "codemirror_mode": {
    "name": "ipython",
    "version": 3
   },
   "file_extension": ".py",
   "mimetype": "text/x-python",
   "name": "python",
   "nbconvert_exporter": "python",
   "pygments_lexer": "ipython3",
   "version": "3.12.9"
  }
 },
 "nbformat": 4,
 "nbformat_minor": 5
}
